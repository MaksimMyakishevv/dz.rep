{
 "cells": [
  {
   "cell_type": "code",
   "execution_count": 9,
   "metadata": {},
   "outputs": [],
   "source": [
    "import random as rng\n",
    "class Hero:\n",
    "    def __init__(self, health = 100,speed = 20,damage = 5,iq = 70,agiliti = 60,coins = 50):\n",
    "        self.health = health\n",
    "        self.speed = speed\n",
    "        self.damage = damage\n",
    "        self.iq = iq\n",
    "        self.agiliti = agiliti\n",
    "        self.coins = coins\n",
    "    def atack(self):\n",
    "        if self.damage > rng.randint(1,10):\n",
    "            print(\"You are win\")\n",
    "        else:\n",
    "            print(\"Loser\")\n",
    "    def think(self):\n",
    "        print('I should win this fight')\n",
    "    def wait(self):\n",
    "        print('I wait your attack')\n",
    "    def trade(self):\n",
    "        if self.coins > 30:\n",
    "            print('I bought new armor')\n",
    "            self.coins = self.coins - 30\n",
    "        else:\n",
    "            print('Pls help me, i dont have many')"
   ]
  },
  {
   "cell_type": "code",
   "execution_count": 10,
   "metadata": {},
   "outputs": [],
   "source": [
    "class BadHero(Hero):\n",
    "    def __init__(self, health=100, speed=10, damage=7, iq=20, agiliti=100, coins=20):\n",
    "        super().__init__(health, speed, damage, iq, agiliti, coins)\n",
    "    def mega_jump(self):\n",
    "        if self.agiliti > rng.randint(50,150):\n",
    "            print('MEGA JUMP !!!!')\n",
    "        else:\n",
    "            print('I feel pain in my knee(')\n",
    "class GoodHero(Hero):\n",
    "    def __init__(self, health=100, speed=25, damage=3, iq=120, agiliti=70, coins=100):\n",
    "        super().__init__(health, speed, damage, iq, agiliti, coins)\n",
    "    def fast_run(self):\n",
    "        if self.speed>rng.randint(15,30):\n",
    "            print('wiiiiiiiii')\n",
    "        else:\n",
    "            print('ochhh')"
   ]
  },
  {
   "cell_type": "code",
   "execution_count": 11,
   "metadata": {},
   "outputs": [],
   "source": [
    "class Achtem(GoodHero):\n",
    "    def __init__(self, health=1, speed=40, damage=1, iq=200, agiliti=70, coins=10000000):\n",
    "        super().__init__(health, speed, damage, iq, agiliti, coins)\n",
    "    def answer(self):\n",
    "        print('I buy your life. \\nHAHAHAHAHHAHAHA')\n",
    "    def throw_many(self):\n",
    "        print('Achtem trom many on earth')\n",
    "        print(self.coins - 1000,'again?')\n",
    "class Andrey(BadHero):\n",
    "    def __init__(self, health=300, speed=50, damage=2, iq=160, agiliti=40, coins=0):\n",
    "        super().__init__(health, speed, damage, iq, agiliti, coins)\n",
    "    def help(self):\n",
    "        print('Ok your code is ready')\n",
    "\n"
   ]
  },
  {
   "cell_type": "code",
   "execution_count": 12,
   "metadata": {},
   "outputs": [
    {
     "name": "stdout",
     "output_type": "stream",
     "text": [
      "wiiiiiiiii\n",
      "I feel pain in my knee(\n",
      "Achtem trom many on earth\n",
      "9999000 again?\n",
      "Ok your code is ready\n"
     ]
    }
   ],
   "source": [
    "achtem1 = Achtem()\n",
    "achtem2 = Achtem()\n",
    "andrey1 = Andrey()\n",
    "andrey2 = Andrey()\n",
    "achtem1.fast_run()\n",
    "andrey1.mega_jump()\n",
    "achtem2.throw_many()\n",
    "andrey2.help()\n"
   ]
  }
 ],
 "metadata": {
  "kernelspec": {
   "display_name": "Python 3",
   "language": "python",
   "name": "python3"
  },
  "language_info": {
   "codemirror_mode": {
    "name": "ipython",
    "version": 3
   },
   "file_extension": ".py",
   "mimetype": "text/x-python",
   "name": "python",
   "nbconvert_exporter": "python",
   "pygments_lexer": "ipython3",
   "version": "3.10.7"
  },
  "orig_nbformat": 4
 },
 "nbformat": 4,
 "nbformat_minor": 2
}
