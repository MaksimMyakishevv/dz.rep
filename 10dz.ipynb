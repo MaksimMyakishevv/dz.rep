{
 "cells": [
  {
   "cell_type": "code",
   "execution_count": 53,
   "metadata": {},
   "outputs": [],
   "source": [
    "from scipy import stats as st"
   ]
  },
  {
   "cell_type": "code",
   "execution_count": 54,
   "metadata": {},
   "outputs": [],
   "source": [
    "time_before = [1732, 1301, 1540, 2247, 1632, 1550, 754, 1946, 1889,\n",
    "          2748, 1349, 1648, 1665, 2416, 1470, 1681, 1868, 1629,\n",
    "          1271, 1633, 2131, 942, 1599, 1127, 2200, 661, 1207,\n",
    "          1737, 2410, 1486]\n",
    "\n",
    "time_after = [955, 2577, 360, 139, 1618, 990, 644, 1796, 1487, 949, 472,\n",
    "         1906, 1758, 1258, 2554, 612, 309, 1864, 1294, 1487, 1164, 1559,\n",
    "         491, 2286, 1270, 2069, 1553, 1629, 1704, 1623]"
   ]
  },
  {
   "cell_type": "markdown",
   "metadata": {},
   "source": [
    "H(0): Нет статистически значимого различия во времени использования личного кабинета до и после редизайна\n",
    "\n",
    "H(1): Есть статистически значимого различия во времени использования личного кабинета до и после редизайна"
   ]
  },
  {
   "cell_type": "code",
   "execution_count": 55,
   "metadata": {},
   "outputs": [
    {
     "name": "stdout",
     "output_type": "stream",
     "text": [
      "TtestResult(statistic=1.845889462014165, pvalue=0.03756989722025075, df=29)\n",
      "Отвергаем нулевую гипотезу.\n"
     ]
    }
   ],
   "source": [
    "alfa = 0.05\n",
    "results = st.ttest_rel(\n",
    "    time_before,\n",
    "    time_after,\n",
    "    alternative='greater'\n",
    ")\n",
    "\n",
    "print(results)\n",
    "if results.pvalue < alfa:\n",
    "    print(\"Отвергаем нулевую гипотезу.\")\n",
    "else:\n",
    "    print(\"Не отвергаем нулевую гипотезу.\")\n"
   ]
  },
  {
   "cell_type": "code",
   "execution_count": 56,
   "metadata": {},
   "outputs": [],
   "source": [
    "bullets_before = [821, 1164, 598, 854, 455, 1220, 161, 1400, 479, 215,\n",
    "          564, 159, 920, 173, 276, 444, 273, 711, 291, 880,\n",
    "          892, 712, 16, 476, 498, 9, 1251, 938, 389, 513]\n",
    "\n",
    "bullets_after = [904, 220, 676, 459, 299, 659, 1698, 1120, 514, 1086, 1499,\n",
    "         1262, 829, 476, 1149, 996, 1247, 1117, 1324, 532, 1458, 898,\n",
    "         1837, 455, 1667, 898, 474, 558, 639, 1012]"
   ]
  },
  {
   "cell_type": "markdown",
   "metadata": {},
   "source": [
    "H(0): средние значения количества патронов до и после изменений одинаковы\n",
    "\n",
    "H(1): средние значения количества патронов до и после изменений различаеться"
   ]
  },
  {
   "cell_type": "code",
   "execution_count": 57,
   "metadata": {},
   "outputs": [
    {
     "name": "stdout",
     "output_type": "stream",
     "text": [
      "Ttest_indResult(statistic=-3.225616875255161, pvalue=0.9989663652980608)\n",
      "Не отвергаем нулевую гипотезу.\n"
     ]
    }
   ],
   "source": [
    "alfa = 0.05\n",
    "results = st.ttest_ind(\n",
    "    bullets_before,\n",
    "    bullets_after,\n",
    "    alternative='greater'\n",
    ")\n",
    "\n",
    "print(results)\n",
    "if results.pvalue < alfa:\n",
    "    print(\"Отвергаем нулевую гипотезу.\")\n",
    "else:\n",
    "    print(\"Не отвергаем нулевую гипотезу.\")"
   ]
  }
 ],
 "metadata": {
  "kernelspec": {
   "display_name": "Python 3",
   "language": "python",
   "name": "python3"
  },
  "language_info": {
   "codemirror_mode": {
    "name": "ipython",
    "version": 3
   },
   "file_extension": ".py",
   "mimetype": "text/x-python",
   "name": "python",
   "nbconvert_exporter": "python",
   "pygments_lexer": "ipython3",
   "version": "3.10.7"
  }
 },
 "nbformat": 4,
 "nbformat_minor": 2
}
